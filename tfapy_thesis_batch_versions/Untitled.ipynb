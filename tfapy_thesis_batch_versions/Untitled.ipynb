{
 "cells": [
  {
   "cell_type": "code",
   "execution_count": 17,
   "metadata": {},
   "outputs": [],
   "source": [
    "import pandas as pd\n",
    "import plotly_express as px\n",
    "import plotly.plotly as py\n",
    "import plotly.graph_objs as go\n",
    "import numpy as np"
   ]
  },
  {
   "cell_type": "code",
   "execution_count": 25,
   "metadata": {},
   "outputs": [
    {
     "data": {
      "text/html": [
       "<iframe id=\"igraph\" scrolling=\"no\" style=\"border:none;\" seamless=\"seamless\" src=\"https://plot.ly/~tminchi/30.embed\" height=\"800px\" width=\"800px\"></iframe>"
      ],
      "text/plain": [
       "<chart_studio.tools.PlotlyDisplay object>"
      ]
     },
     "execution_count": 25,
     "metadata": {},
     "output_type": "execute_result"
    }
   ],
   "source": [
    "import plotly.plotly as py\n",
    "import plotly.graph_objs as go\n",
    "import plotly.figure_factory as ff\n",
    "\n",
    "import numpy as np\n",
    "from scipy.spatial.distance import pdist, squareform\n",
    "\n",
    "\n",
    "# get data\n",
    "data = np.genfromtxt(\"http://files.figshare.com/2133304/ExpRawData_E_TABM_84_A_AFFY_44.tab\",\n",
    "                     names=True,usecols=tuple(range(1,30)),dtype=float, delimiter=\"\\t\")\n",
    "data_array = data.view((np.float, len(data.dtype.names)))\n",
    "data_array = data_array.transpose()\n",
    "labels = data.dtype.names\n",
    "\n",
    "# Initialize figure by creating upper dendrogram\n",
    "figure = ff.create_dendrogram(data_array, orientation='bottom', labels=labels)\n",
    "for i in range(len(figure['data'])):\n",
    "    figure['data'][i]['yaxis'] = 'y2'\n",
    "\n",
    "# Create Side Dendrogram\n",
    "dendro_side = ff.create_dendrogram(data_array, orientation='right')\n",
    "for i in range(len(dendro_side['data'])):\n",
    "    dendro_side['data'][i]['xaxis'] = 'x2'\n",
    "\n",
    "# Add Side Dendrogram Data to Figure\n",
    "for data in dendro_side['data']:\n",
    "    figure.add_trace(data)\n",
    "\n",
    "# Create Heatmap\n",
    "dendro_leaves = dendro_side['layout']['yaxis']['ticktext']\n",
    "dendro_leaves = list(map(int, dendro_leaves))\n",
    "data_dist = pdist(data_array)\n",
    "heat_data = squareform(data_dist)\n",
    "heat_data = heat_data[dendro_leaves,:]\n",
    "heat_data = heat_data[:,dendro_leaves]\n",
    "\n",
    "heatmap = [\n",
    "    go.Heatmap(\n",
    "        x = dendro_leaves, \n",
    "        y = dendro_leaves,\n",
    "        z = heat_data,    \n",
    "        colorscale = 'Blues'\n",
    "    )\n",
    "]\n",
    "\n",
    "heatmap[0]['x'] = figure['layout']['xaxis']['tickvals']\n",
    "heatmap[0]['y'] = dendro_side['layout']['yaxis']['tickvals']\n",
    "\n",
    "# Add Heatmap Data to Figure\n",
    "for data in heatmap:\n",
    "    figure.add_trace(data)\n",
    "\n",
    "# Edit Layout\n",
    "figure['layout'].update({'width':800, 'height':800,\n",
    "                         'showlegend':False, 'hovermode': 'closest',\n",
    "                         })\n",
    "# Edit xaxis\n",
    "figure['layout']['xaxis'].update({'domain': [.15, 1],\n",
    "                                  'mirror': False,\n",
    "                                  'showgrid': False,\n",
    "                                  'showline': False,\n",
    "                                  'zeroline': False,\n",
    "                                  'ticks':\"\"})\n",
    "# Edit xaxis2\n",
    "figure['layout'].update({'xaxis2': {'domain': [0, .15],\n",
    "                                   'mirror': False,\n",
    "                                   'showgrid': False,\n",
    "                                   'showline': False,\n",
    "                                   'zeroline': False,\n",
    "                                   'showticklabels': False,\n",
    "                                   'ticks':\"\"}})\n",
    "\n",
    "# Edit yaxis\n",
    "figure['layout']['yaxis'].update({'domain': [0, .85],\n",
    "                                  'mirror': False,\n",
    "                                  'showgrid': False,\n",
    "                                  'showline': False,\n",
    "                                  'zeroline': False,\n",
    "                                  'showticklabels': False,\n",
    "                                  'ticks': \"\"})\n",
    "# Edit yaxis2\n",
    "figure['layout'].update({'yaxis2':{'domain':[.825, .975],\n",
    "                                   'mirror': False,\n",
    "                                   'showgrid': False,\n",
    "                                   'showline': False,\n",
    "                                   'zeroline': False,\n",
    "                                   'showticklabels': False,\n",
    "                                   'ticks':\"\"}})\n",
    "\n",
    "# Plot!\n",
    "py.iplot(figure, filename='dendrogram_with_heatmap')\n"
   ]
  },
  {
   "cell_type": "code",
   "execution_count": 11,
   "metadata": {},
   "outputs": [
    {
     "ename": "AttributeError",
     "evalue": "'PlotlyDisplay' object has no attribute 'layout'",
     "output_type": "error",
     "traceback": [
      "\u001b[0;31m---------------------------------------------------------------------------\u001b[0m",
      "\u001b[0;31mAttributeError\u001b[0m                            Traceback (most recent call last)",
      "\u001b[0;32m<ipython-input-11-3b8cab986597>\u001b[0m in \u001b[0;36m<module>\u001b[0;34m\u001b[0m\n\u001b[0;32m----> 1\u001b[0;31m \u001b[0mfig\u001b[0m\u001b[0;34m.\u001b[0m\u001b[0mlayout\u001b[0m\u001b[0;34m.\u001b[0m\u001b[0mtemplate\u001b[0m\u001b[0;34m=\u001b[0m\u001b[0;34m'ggplot2'\u001b[0m\u001b[0;34m\u001b[0m\u001b[0;34m\u001b[0m\u001b[0m\n\u001b[0m",
      "\u001b[0;31mAttributeError\u001b[0m: 'PlotlyDisplay' object has no attribute 'layout'"
     ]
    }
   ],
   "source": []
  },
  {
   "cell_type": "code",
   "execution_count": null,
   "metadata": {},
   "outputs": [],
   "source": []
  }
 ],
 "metadata": {
  "kernelspec": {
   "display_name": "Python 3",
   "language": "python",
   "name": "python3"
  },
  "language_info": {
   "codemirror_mode": {
    "name": "ipython",
    "version": 3
   },
   "file_extension": ".py",
   "mimetype": "text/x-python",
   "name": "python",
   "nbconvert_exporter": "python",
   "pygments_lexer": "ipython3",
   "version": "3.7.1"
  }
 },
 "nbformat": 4,
 "nbformat_minor": 2
}
